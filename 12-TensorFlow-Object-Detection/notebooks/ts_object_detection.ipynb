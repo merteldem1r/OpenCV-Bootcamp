{
 "cells": [
  {
   "cell_type": "code",
   "execution_count": null,
   "id": "d394fe46",
   "metadata": {},
   "outputs": [],
   "source": [
    "import os\n",
    "import cv2\n",
    "import numpy as np\n",
    "import matplotlib.pyplot as plt\n",
    "\n",
    "from zipfile import ZipFile\n",
    "from urllib.request import urlretrieve\n",
    "\n",
    "from IPython.display import Image\n",
    "\n",
    "%matplotlib inline\n",
    "\n",
    "DATA_RAW_PATH = os.path.abspath(os.path.join(\n",
    "    os.getcwd(), \"../data/raw\"))\n",
    "DATA_OUTPUT_PATH = os.path.abspath(os.path.join(os.getcwd(), \"../data/output\"))\n",
    "MODELS_PATH = os.path.abspath(os.path.join(\n",
    "    os.getcwd(), \"../models\"))\n",
    "\n",
    "# To get the example images that below worked on please first run the download_assets.py file"
   ]
  },
  {
   "cell_type": "markdown",
   "id": "76ca0d6b",
   "metadata": {},
   "source": [
    "### TensorFlow Object Detection Setup Guide (SSD MobileNet v2)\n",
    "\n",
    "This guide explains how to manually set up the SSD MobileNet v2 object detection model using OpenCV's DNN module.\n",
    "\n",
    "\n",
    "#### 1. Download Pre-trained Model\n",
    "\n",
    "Go to the [TensorFlow Object Detection Model Zoo](https://github.com/tensorflow/models/blob/master/research/object_detection/g3doc/tf2_detection_zoo.md) and download a model trained on the COCO dataset.\n",
    "\n",
    "Recommended model:\n",
    "[ssd_mobilenet_v2_coco_2018_03_29.tar.gz](http://download.tensorflow.org/models/object_detection/ssd_mobilenet_v2_coco_2018_03_29.tar.gz)\n",
    "\n",
    "\n",
    "#### 2. Extract and Organize the Model Files\n",
    "\n",
    "After downloading:\n",
    "\n",
    "- Extract the `.tar.gz` file\n",
    "- Move the extracted folder to a directory named `models/`\n",
    "\n",
    "The extracted folder should contain:\n",
    "\n",
    "```html\n",
    "models/\n",
    "└── ssd_mobilenet_v2_coco_2018_03_29\n",
    "    ├── checkpoint\n",
    "    ├── frozen_inference_graph.pb\n",
    "    ├── model.ckpt.data-00000-of-00001\n",
    "    ├── model.ckpt.index\n",
    "    ├── model.ckpt.meta\n",
    "    ├── pipeline.config\n",
    "    └── saved_model/\n",
    "```\n",
    "\n",
    "The main file used for OpenCV inference is `frozen_inference_graph.pb`.\n",
    "\n",
    "#### 3. Generate Config (.pbtxt) File for OpenCV\n",
    "\n",
    "OpenCV requires a `.pbtxt` configuration file to understand the model's structure.\n",
    "\n",
    "To generate it, run the following command using the provided script:\n",
    "\n",
    "```bash\n",
    "python tf_text_graph_ssd.py \\\n",
    "  --input models/ssd_mobilenet_v2_coco_2018_03_29/frozen_inference_graph.pb \\\n",
    "  --config models/ssd_mobilenet_v2_coco_2018_03_29.pbtxt\n",
    "```\n",
    "\n",
    "If you do not have the script, download it from the official OpenCV repository:\n",
    "\n",
    "https://github.com/opencv/opencv/blob/master/samples/dnn/tf_text_graph_ssd.py\n",
    "\n",
    "#### 4. Final Project Structure\n",
    "\n",
    "Your final directory structure should look like:\n",
    "\n",
    "```html\n",
    "project-root/\n",
    "├── coco_class_labels.txt         # Optional: for displaying class names\n",
    "├── tf_text_graph_ssd.py          # Script to convert .pb to .pbtxt\n",
    "├── tf_text_graph_common.py       # Helper script for tf_text_graph_ssd.py file\n",
    "└── models/\n",
    "    ├── ssd_mobilenet_v2_coco_2018_03_29/\n",
    "    │   └── frozen_inference_graph.pb\n",
    "    └── ssd_mobilenet_v2_coco_2018_03_29.pbtxt\n",
    "```"
   ]
  },
  {
   "cell_type": "markdown",
   "id": "4506d989",
   "metadata": {},
   "source": [
    "#### Check Class Labels"
   ]
  },
  {
   "cell_type": "code",
   "execution_count": null,
   "id": "dc9d81eb",
   "metadata": {},
   "outputs": [],
   "source": [
    "class_file_path  = \"../coco_class_labels.txt\"\n",
    "\n",
    "with open(class_file_path) as fp:\n",
    "    labels = fp.read().split(\"\\n\")\n",
    "    \n",
    "print(labels)"
   ]
  },
  {
   "cell_type": "markdown",
   "id": "5181ac27",
   "metadata": {},
   "source": []
  }
 ],
 "metadata": {
  "kernelspec": {
   "display_name": ".venv",
   "language": "python",
   "name": "python3"
  },
  "language_info": {
   "codemirror_mode": {
    "name": "ipython",
    "version": 3
   },
   "file_extension": ".py",
   "mimetype": "text/x-python",
   "name": "python",
   "nbconvert_exporter": "python",
   "pygments_lexer": "ipython3",
   "version": "3.13.5"
  }
 },
 "nbformat": 4,
 "nbformat_minor": 5
}
