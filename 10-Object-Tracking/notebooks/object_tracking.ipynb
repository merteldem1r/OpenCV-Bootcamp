{
 "cells": [
  {
   "cell_type": "code",
   "execution_count": 1,
   "id": "d394fe46",
   "metadata": {},
   "outputs": [],
   "source": [
    "import os\n",
    "import sys\n",
    "import cv2\n",
    "import numpy as np\n",
    "import matplotlib.pyplot as plt\n",
    "\n",
    "from IPython.display import HTML\n",
    "from matplotlib.animation import FuncAnimation\n",
    "\n",
    "from IPython.display import YouTubeVideo, display, HTML\n",
    "from base64 import b64encode\n",
    "\n",
    "%matplotlib inline\n",
    "\n",
    "DATA_RAW_PATH = os.path.abspath(os.path.join(\n",
    "    os.getcwd(), \"../data/raw\"))\n",
    "DATA_OUTPUT_PATH = os.path.abspath(os.path.join(os.getcwd(), \"../data/output\"))\n",
    "\n",
    "# To get the example images that below worked on please first run the download_assets.py file"
   ]
  },
  {
   "cell_type": "markdown",
   "id": "cd8aed2b",
   "metadata": {},
   "source": [
    "#### What is Object Tracking?\n",
    "\n",
    "**Link**: https://www.geeksforgeeks.org/computer-vision/getting-started-with-object-tracking-using-opencv/\n",
    "\n",
    "**Object tracking** in **computer vision** is following and keeping a record of the position of any object upon its **change in movement in the video**. Multiple objects can also be tracked simultaneously. The main goal of object tracking is to **maintain the identity** and **positioning of the object** as it moves through the video, despite variations in **appearance**, **size**, **orientation**, and **lighting**, and **releasing the object tracking once the object goes out of the video frame.**\n",
    "\n",
    "#### Object Detection vs Object Tracking\n",
    "\n",
    "**Object detection** and **object tracking** are distinct processes.\n",
    "\n",
    "- **Object Detection**\n",
    "Object detection **locates objects within an image**, achieved through **training models on datasets** to **recognize specific objects**. It typically involves **drawing bounding boxes** or **labels around detected objects**. This can be applied to both images and videos.\n",
    "\n",
    "- **Object Tracking**\n",
    "Object tracking, however, is more intricate, **involving following a specific object's movement across continuous video frames**. Tracking algorithms maintain the object's identity despite changes in appearance or position. Challenges like **dynamic video conditions** and **obstacles are addressed using mathematical** and **deep learning algorithms** to ensure accuracy and effectivenes"
   ]
  },
  {
   "cell_type": "markdown",
   "id": "a67f42e7",
   "metadata": {},
   "source": [
    "#### Object Tracking Using OpenCV\n",
    "\n",
    "**Object Tracking** involves **analyzing individual frames of a video**, **comparing them to previous frames** to **detect** and **monitor** objects. Initially, objects are **identified, assigned unique IDs if multiple**, and their trajectories are monitored and updated in subsequent frames. OpenCV offers built-in and external tracker libraries like **GOTURN**, **MIL**, **Nano**, **Vit**, **mean shift**, and **camshift**, each with **varying speed** and **accuracy**.\n",
    "\n",
    "#### Steps of Object Tracking with OpenCV\n",
    "Below, are the steps of Object Tracking with OpenCV.\n",
    "\n",
    "1. Prepare the camera and set up the necessary software.\n",
    "2. Choose the region of interest (ROI) to track from the camera feed. You can pre-trained object detection models for specific object recognition.\n",
    "3. Initialize the tracking mechanism.\n",
    "4. Continuously identify instances of the target object within subsequent frames.\n",
    "5. Update the object's location in each frame.\n",
    "6. Provide visual indicators, such as bounding boxes or labels, to confirm successful tracking of the object."
   ]
  },
  {
   "cell_type": "markdown",
   "id": "91ce89c1",
   "metadata": {},
   "source": [
    "#### Object Tracking\n",
    "\n",
    "**Link**: https://opencv.org/university/\n",
    "\n",
    "#### What is tracking?\n",
    "\n",
    "- Tracking in computer vison.\n",
    "- Motion model and appearnace model.\n",
    "- OpenCV API Tracker Class.\n",
    "\n",
    "#### Two Core Concepts in Object Tracking\n",
    "\n",
    "1. **Appearance Model**:\n",
    "   - Defines what the object looks like.\n",
    "   - Usually stores features from the initial appearance of the object (color, texture, histogram, keypoints).\n",
    "   - Used to match or verify the object in new frames.\n",
    "\n",
    "Example: In the CSRT tracker, the tracker uses an appearance model based on Discriminative Correlation Filters.\n",
    "\n",
    "2. **Motion Model**:\n",
    "   - Predicts where the object will likely move in the next frame.\n",
    "   - Based on physics: assumes constant velocity, acceleration, etc.\n",
    "   - Simple version: Linear motion\n",
    "   - Complex version: Kalman Filter or Optical Flow\n",
    "\n",
    "Like guessing where the object will appear next.\n"
   ]
  },
  {
   "cell_type": "markdown",
   "id": "24ace6ad",
   "metadata": {},
   "source": [
    "#### Types of Object Trackers in OpenCV\n",
    "\n",
    "- **BOOSTING**: Old AdaBoost-based, not very accurate\n",
    "- **MIL**: Robust to occlusion, not fast\n",
    "- **KCF**: Fast, uses correlation filters\n",
    "- **CSRT**: More accurate than KCF, slower\n",
    "- **MOSSE**: Very fast, uses grayscale correlation\n",
    "- **GOTURN**: Deep learning-based, needs offline training\n",
    "- **MedianFlow**: Works well for linear movements\n",
    "- **Nano/ViT**: New, deep-learning based trackers (OpenCV contrib)\n"
   ]
  },
  {
   "cell_type": "markdown",
   "id": "91c5b5cf",
   "metadata": {},
   "source": [
    "##### Example of tracking a person in a video:\n",
    "\n",
    "- Appearance model stores their color histogram or deep features (e.g., shirt color).\n",
    "- Motion model assumes they keep walking forward, predicting their next location.\n",
    "- If they disappear for 2 frames behind a tree, the motion model still predicts their next position. When they reappear, the appearance model confirms it’s the same person.\n"
   ]
  },
  {
   "cell_type": "markdown",
   "id": "b2ebae9c",
   "metadata": {},
   "source": [
    "#### Goal\n",
    "\n",
    " Given the initial location of an object, track location in subsequent frames\n",
    "\n",
    "![Object Tracking](https://learnopencv.com/wp-content/uploads/2023/03/opencv_bootcamp_NB11_race_car_tracking.png)"
   ]
  },
  {
   "cell_type": "code",
   "execution_count": 2,
   "id": "fa7e45ee",
   "metadata": {},
   "outputs": [
    {
     "data": {
      "image/jpeg": "[encoded data removed]",
      "text/html": [
       "\n",
       "        <iframe\n",
       "            width=\"1024\"\n",
       "            height=\"640\"\n",
       "            src=\"https://www.youtube.com/embed/XkJCvtCRdVM\"\n",
       "            frameborder=\"0\"\n",
       "            allowfullscreen\n",
       "            \n",
       "        ></iframe>\n",
       "        "
      ],
      "text/plain": [
       "<IPython.lib.display.YouTubeVideo at 0x13a23eba0>"
      ]
     },
     "metadata": {},
     "output_type": "display_data"
    }
   ],
   "source": [
    "video = YouTubeVideo(\"XkJCvtCRdVM\", width=1024, height=640)\n",
    "display(video)"
   ]
  },
  {
   "cell_type": "markdown",
   "id": "fd0071ff",
   "metadata": {},
   "source": [
    "#### GOTURN Tracker\n",
    "\n",
    "![](https://learnopencv.com/wp-content/uploads/2023/03/opencv_bootcamp_NB11_goturn.jpg)"
   ]
  },
  {
   "cell_type": "markdown",
   "id": "115a9b07",
   "metadata": {},
   "source": [
    "#### Look to the tracker.py file for the project implementaion"
   ]
  }
 ],
 "metadata": {
  "kernelspec": {
   "display_name": ".venv",
   "language": "python",
   "name": "python3"
  },
  "language_info": {
   "codemirror_mode": {
    "name": "ipython",
    "version": 3
   },
   "file_extension": ".py",
   "mimetype": "text/x-python",
   "name": "python",
   "nbconvert_exporter": "python",
   "pygments_lexer": "ipython3",
   "version": "3.13.5"
  }
 },
 "nbformat": 4,
 "nbformat_minor": 5
}
